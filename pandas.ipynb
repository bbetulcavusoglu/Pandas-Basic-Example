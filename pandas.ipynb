{
 "cells": [
  {
   "cell_type": "code",
   "execution_count": 2,
   "id": "4d91c0c1",
   "metadata": {},
   "outputs": [],
   "source": [
    "import numpy as np\n",
    "import pandas as pd"
   ]
  },
  {
   "cell_type": "code",
   "execution_count": 3,
   "id": "2bc1eb30",
   "metadata": {},
   "outputs": [
    {
     "data": {
      "text/plain": [
       "elma         30\n",
       "artmut       45\n",
       "mandalina    20\n",
       "dtype: int64"
      ]
     },
     "execution_count": 3,
     "metadata": {},
     "output_type": "execute_result"
    }
   ],
   "source": [
    "dict1={\"elma\":30, \"artmut\":45, \"mandalina\":20}\n",
    "pd.Series(dict1)"
   ]
  },
  {
   "cell_type": "code",
   "execution_count": 4,
   "id": "3a393bc6",
   "metadata": {},
   "outputs": [],
   "source": [
    "listfiyat=[30,45,20]\n",
    "listisim=[\"elma\",\"armut\",\"mandalina\"]\n"
   ]
  },
  {
   "cell_type": "code",
   "execution_count": 5,
   "id": "11236901",
   "metadata": {},
   "outputs": [
    {
     "data": {
      "text/plain": [
       "0    30\n",
       "1    45\n",
       "2    20\n",
       "dtype: int64"
      ]
     },
     "execution_count": 5,
     "metadata": {},
     "output_type": "execute_result"
    }
   ],
   "source": [
    "pd.Series(listfiyat)"
   ]
  },
  {
   "cell_type": "code",
   "execution_count": null,
   "id": "5a5b67e6",
   "metadata": {},
   "outputs": [],
   "source": []
  },
  {
   "cell_type": "code",
   "execution_count": 6,
   "id": "5f7033ae",
   "metadata": {},
   "outputs": [
    {
     "data": {
      "text/plain": [
       "elma         30\n",
       "armut        45\n",
       "mandalina    20\n",
       "dtype: int64"
      ]
     },
     "execution_count": 6,
     "metadata": {},
     "output_type": "execute_result"
    }
   ],
   "source": [
    "pd.Series(listfiyat,listisim)"
   ]
  },
  {
   "cell_type": "code",
   "execution_count": 7,
   "id": "21a575f8",
   "metadata": {},
   "outputs": [
    {
     "data": {
      "text/plain": [
       "elma         30\n",
       "armut        45\n",
       "mandalina    20\n",
       "dtype: int64"
      ]
     },
     "execution_count": 7,
     "metadata": {},
     "output_type": "execute_result"
    }
   ],
   "source": [
    "pd.Series(data=listfiyat,index=listisim)"
   ]
  },
  {
   "cell_type": "code",
   "execution_count": 8,
   "id": "580b63ec",
   "metadata": {},
   "outputs": [
    {
     "data": {
      "text/plain": [
       "elma         30\n",
       "armut        45\n",
       "mandalina    20\n",
       "dtype: int64"
      ]
     },
     "execution_count": 8,
     "metadata": {},
     "output_type": "execute_result"
    }
   ],
   "source": [
    "pd.Series(index=listisim,data= listfiyat)"
   ]
  },
  {
   "cell_type": "code",
   "execution_count": 9,
   "id": "97382fab",
   "metadata": {},
   "outputs": [
    {
     "data": {
      "text/plain": [
       "1    30\n",
       "2    45\n",
       "3    20\n",
       "dtype: int32"
      ]
     },
     "execution_count": 9,
     "metadata": {},
     "output_type": "execute_result"
    }
   ],
   "source": [
    "npdizi=np.array([30,45,20])\n",
    "pd.Series(npdizi,[1,2,3])"
   ]
  },
  {
   "cell_type": "code",
   "execution_count": 10,
   "id": "7f14edc3",
   "metadata": {},
   "outputs": [
    {
     "data": {
      "text/plain": [
       "1        Busra\n",
       "2        Betul\n",
       "3    Cavusoglu\n",
       "dtype: object"
      ]
     },
     "execution_count": 10,
     "metadata": {},
     "output_type": "execute_result"
    }
   ],
   "source": [
    "pd.Series([\"Busra\",\"Betul\",\"Cavusoglu\"],[1,2,3])"
   ]
  },
  {
   "cell_type": "code",
   "execution_count": 11,
   "id": "73a4df32",
   "metadata": {},
   "outputs": [
    {
     "data": {
      "text/plain": [
       "'Betul'"
      ]
     },
     "execution_count": 11,
     "metadata": {},
     "output_type": "execute_result"
    }
   ],
   "source": [
    "isim=pd.Series([\"Busra\",\"Betul\",\"Cavusoglu\"],[1,2,3])\n",
    "isim[2]"
   ]
  },
  {
   "cell_type": "code",
   "execution_count": 12,
   "id": "28395c17",
   "metadata": {},
   "outputs": [
    {
     "data": {
      "text/plain": [
       "meyve       NaN\n",
       "sebze       NaN\n",
       "sut        19.0\n",
       "un         90.0\n",
       "yumurta    32.0\n",
       "dtype: float64"
      ]
     },
     "execution_count": 12,
     "metadata": {},
     "output_type": "execute_result"
    }
   ],
   "source": [
    "market1=pd.Series([10,15,40,60],[\"sut\",\"yumurta\",\"un\",\"sebze\"])\n",
    "market2=pd.Series([9,17,50,20],[\"sut\",\"yumurta\",\"un\",\"meyve\"])\n",
    "\n",
    "sum=market1+market2\n",
    "sum"
   ]
  },
  {
   "cell_type": "code",
   "execution_count": 13,
   "id": "f10a6668",
   "metadata": {},
   "outputs": [
    {
     "data": {
      "text/plain": [
       "array([[-0.1919194 ,  0.22195233,  0.47132573],\n",
       "       [ 0.44242582, -0.27503516, -0.81178418],\n",
       "       [-0.97061129, -1.12917731, -1.31376703],\n",
       "       [-0.09972405, -1.50790855,  1.16119841]])"
      ]
     },
     "execution_count": 13,
     "metadata": {},
     "output_type": "execute_result"
    }
   ],
   "source": [
    "data=np.random.randn(4,3)\n",
    "data"
   ]
  },
  {
   "cell_type": "code",
   "execution_count": 14,
   "id": "2eb1d223",
   "metadata": {},
   "outputs": [
    {
     "data": {
      "text/html": [
       "<div>\n",
       "<style scoped>\n",
       "    .dataframe tbody tr th:only-of-type {\n",
       "        vertical-align: middle;\n",
       "    }\n",
       "\n",
       "    .dataframe tbody tr th {\n",
       "        vertical-align: top;\n",
       "    }\n",
       "\n",
       "    .dataframe thead th {\n",
       "        text-align: right;\n",
       "    }\n",
       "</style>\n",
       "<table border=\"1\" class=\"dataframe\">\n",
       "  <thead>\n",
       "    <tr style=\"text-align: right;\">\n",
       "      <th></th>\n",
       "      <th>0</th>\n",
       "      <th>1</th>\n",
       "      <th>2</th>\n",
       "    </tr>\n",
       "  </thead>\n",
       "  <tbody>\n",
       "    <tr>\n",
       "      <th>0</th>\n",
       "      <td>-0.191919</td>\n",
       "      <td>0.221952</td>\n",
       "      <td>0.471326</td>\n",
       "    </tr>\n",
       "    <tr>\n",
       "      <th>1</th>\n",
       "      <td>0.442426</td>\n",
       "      <td>-0.275035</td>\n",
       "      <td>-0.811784</td>\n",
       "    </tr>\n",
       "    <tr>\n",
       "      <th>2</th>\n",
       "      <td>-0.970611</td>\n",
       "      <td>-1.129177</td>\n",
       "      <td>-1.313767</td>\n",
       "    </tr>\n",
       "    <tr>\n",
       "      <th>3</th>\n",
       "      <td>-0.099724</td>\n",
       "      <td>-1.507909</td>\n",
       "      <td>1.161198</td>\n",
       "    </tr>\n",
       "  </tbody>\n",
       "</table>\n",
       "</div>"
      ],
      "text/plain": [
       "          0         1         2\n",
       "0 -0.191919  0.221952  0.471326\n",
       "1  0.442426 -0.275035 -0.811784\n",
       "2 -0.970611 -1.129177 -1.313767\n",
       "3 -0.099724 -1.507909  1.161198"
      ]
     },
     "execution_count": 14,
     "metadata": {},
     "output_type": "execute_result"
    }
   ],
   "source": [
    "dataFrame=pd.DataFrame(data)\n",
    "dataFrame"
   ]
  },
  {
   "cell_type": "code",
   "execution_count": 15,
   "id": "f7a23e8e",
   "metadata": {},
   "outputs": [
    {
     "data": {
      "text/plain": [
       "pandas.core.series.Series"
      ]
     },
     "execution_count": 15,
     "metadata": {},
     "output_type": "execute_result"
    }
   ],
   "source": [
    "type(dataFrame[1])"
   ]
  },
  {
   "cell_type": "code",
   "execution_count": 26,
   "id": "8b344da4",
   "metadata": {},
   "outputs": [
    {
     "data": {
      "text/html": [
       "<div>\n",
       "<style scoped>\n",
       "    .dataframe tbody tr th:only-of-type {\n",
       "        vertical-align: middle;\n",
       "    }\n",
       "\n",
       "    .dataframe tbody tr th {\n",
       "        vertical-align: top;\n",
       "    }\n",
       "\n",
       "    .dataframe thead th {\n",
       "        text-align: right;\n",
       "    }\n",
       "</style>\n",
       "<table border=\"1\" class=\"dataframe\">\n",
       "  <thead>\n",
       "    <tr style=\"text-align: right;\">\n",
       "      <th></th>\n",
       "      <th>Betul</th>\n",
       "      <th>Elif</th>\n",
       "      <th>Busra</th>\n",
       "    </tr>\n",
       "  </thead>\n",
       "  <tbody>\n",
       "    <tr>\n",
       "      <th>matematik</th>\n",
       "      <td>-0.191919</td>\n",
       "      <td>0.221952</td>\n",
       "      <td>0.471326</td>\n",
       "    </tr>\n",
       "    <tr>\n",
       "      <th>türkçe</th>\n",
       "      <td>0.442426</td>\n",
       "      <td>-0.275035</td>\n",
       "      <td>-0.811784</td>\n",
       "    </tr>\n",
       "    <tr>\n",
       "      <th>sosyal</th>\n",
       "      <td>-0.970611</td>\n",
       "      <td>-1.129177</td>\n",
       "      <td>-1.313767</td>\n",
       "    </tr>\n",
       "    <tr>\n",
       "      <th>fen</th>\n",
       "      <td>-0.099724</td>\n",
       "      <td>-1.507909</td>\n",
       "      <td>1.161198</td>\n",
       "    </tr>\n",
       "  </tbody>\n",
       "</table>\n",
       "</div>"
      ],
      "text/plain": [
       "              Betul      Elif     Busra\n",
       "matematik -0.191919  0.221952  0.471326\n",
       "türkçe     0.442426 -0.275035 -0.811784\n",
       "sosyal    -0.970611 -1.129177 -1.313767\n",
       "fen       -0.099724 -1.507909  1.161198"
      ]
     },
     "execution_count": 26,
     "metadata": {},
     "output_type": "execute_result"
    }
   ],
   "source": [
    "newDataFrame=pd.DataFrame(data,index=[\"matematik\",\"türkçe\",\"sosyal\",\"fen\"],columns=[\"Betul\",\"Elif\",\"Busra\"])\n",
    "newDataFrame"
   ]
  },
  {
   "cell_type": "code",
   "execution_count": 17,
   "id": "5d1af218",
   "metadata": {},
   "outputs": [
    {
     "data": {
      "text/html": [
       "<div>\n",
       "<style scoped>\n",
       "    .dataframe tbody tr th:only-of-type {\n",
       "        vertical-align: middle;\n",
       "    }\n",
       "\n",
       "    .dataframe tbody tr th {\n",
       "        vertical-align: top;\n",
       "    }\n",
       "\n",
       "    .dataframe thead th {\n",
       "        text-align: right;\n",
       "    }\n",
       "</style>\n",
       "<table border=\"1\" class=\"dataframe\">\n",
       "  <thead>\n",
       "    <tr style=\"text-align: right;\">\n",
       "      <th></th>\n",
       "      <th>Elif</th>\n",
       "      <th>Busra</th>\n",
       "    </tr>\n",
       "  </thead>\n",
       "  <tbody>\n",
       "    <tr>\n",
       "      <th>matematik</th>\n",
       "      <td>0.221952</td>\n",
       "      <td>0.471326</td>\n",
       "    </tr>\n",
       "    <tr>\n",
       "      <th>türkçe</th>\n",
       "      <td>-0.275035</td>\n",
       "      <td>-0.811784</td>\n",
       "    </tr>\n",
       "    <tr>\n",
       "      <th>sosyal</th>\n",
       "      <td>-1.129177</td>\n",
       "      <td>-1.313767</td>\n",
       "    </tr>\n",
       "    <tr>\n",
       "      <th>fen</th>\n",
       "      <td>-1.507909</td>\n",
       "      <td>1.161198</td>\n",
       "    </tr>\n",
       "  </tbody>\n",
       "</table>\n",
       "</div>"
      ],
      "text/plain": [
       "               Elif     Busra\n",
       "matematik  0.221952  0.471326\n",
       "türkçe    -0.275035 -0.811784\n",
       "sosyal    -1.129177 -1.313767\n",
       "fen       -1.507909  1.161198"
      ]
     },
     "execution_count": 17,
     "metadata": {},
     "output_type": "execute_result"
    }
   ],
   "source": [
    "newDataFrame[[\"Elif\",\"Busra\"]]"
   ]
  },
  {
   "cell_type": "code",
   "execution_count": 18,
   "id": "5cd97a33",
   "metadata": {},
   "outputs": [
    {
     "data": {
      "text/plain": [
       "Betul   -0.191919\n",
       "Elif     0.221952\n",
       "Busra    0.471326\n",
       "Name: matematik, dtype: float64"
      ]
     },
     "execution_count": 18,
     "metadata": {},
     "output_type": "execute_result"
    }
   ],
   "source": [
    "newDataFrame.iloc[0]\n"
   ]
  },
  {
   "cell_type": "code",
   "execution_count": 25,
   "id": "acda9470",
   "metadata": {},
   "outputs": [
    {
     "data": {
      "text/html": [
       "<div>\n",
       "<style scoped>\n",
       "    .dataframe tbody tr th:only-of-type {\n",
       "        vertical-align: middle;\n",
       "    }\n",
       "\n",
       "    .dataframe tbody tr th {\n",
       "        vertical-align: top;\n",
       "    }\n",
       "\n",
       "    .dataframe thead th {\n",
       "        text-align: right;\n",
       "    }\n",
       "</style>\n",
       "<table border=\"1\" class=\"dataframe\">\n",
       "  <thead>\n",
       "    <tr style=\"text-align: right;\">\n",
       "      <th></th>\n",
       "      <th>Betul</th>\n",
       "      <th>Elif</th>\n",
       "      <th>Busra</th>\n",
       "      <th>Tuna</th>\n",
       "    </tr>\n",
       "  </thead>\n",
       "  <tbody>\n",
       "    <tr>\n",
       "      <th>matematik</th>\n",
       "      <td>-0.191919</td>\n",
       "      <td>0.221952</td>\n",
       "      <td>0.471326</td>\n",
       "      <td>-0.383839</td>\n",
       "    </tr>\n",
       "    <tr>\n",
       "      <th>türkçe</th>\n",
       "      <td>0.442426</td>\n",
       "      <td>-0.275035</td>\n",
       "      <td>-0.811784</td>\n",
       "      <td>0.884852</td>\n",
       "    </tr>\n",
       "    <tr>\n",
       "      <th>sosyal</th>\n",
       "      <td>-0.970611</td>\n",
       "      <td>-1.129177</td>\n",
       "      <td>-1.313767</td>\n",
       "      <td>-1.941223</td>\n",
       "    </tr>\n",
       "    <tr>\n",
       "      <th>fen</th>\n",
       "      <td>-0.099724</td>\n",
       "      <td>-1.507909</td>\n",
       "      <td>1.161198</td>\n",
       "      <td>-0.199448</td>\n",
       "    </tr>\n",
       "  </tbody>\n",
       "</table>\n",
       "</div>"
      ],
      "text/plain": [
       "              Betul      Elif     Busra      Tuna\n",
       "matematik -0.191919  0.221952  0.471326 -0.383839\n",
       "türkçe     0.442426 -0.275035 -0.811784  0.884852\n",
       "sosyal    -0.970611 -1.129177 -1.313767 -1.941223\n",
       "fen       -0.099724 -1.507909  1.161198 -0.199448"
      ]
     },
     "execution_count": 25,
     "metadata": {},
     "output_type": "execute_result"
    }
   ],
   "source": [
    "newDataFrame[\"Tuna\"]=newDataFrame[\"Betul\"]+newDataFrame[\"Betul\"]\n",
    "newDataFrame"
   ]
  },
  {
   "cell_type": "code",
   "execution_count": 20,
   "id": "46c32ae4",
   "metadata": {},
   "outputs": [
    {
     "data": {
      "text/html": [
       "<div>\n",
       "<style scoped>\n",
       "    .dataframe tbody tr th:only-of-type {\n",
       "        vertical-align: middle;\n",
       "    }\n",
       "\n",
       "    .dataframe tbody tr th {\n",
       "        vertical-align: top;\n",
       "    }\n",
       "\n",
       "    .dataframe thead th {\n",
       "        text-align: right;\n",
       "    }\n",
       "</style>\n",
       "<table border=\"1\" class=\"dataframe\">\n",
       "  <thead>\n",
       "    <tr style=\"text-align: right;\">\n",
       "      <th></th>\n",
       "      <th>Betul</th>\n",
       "      <th>Elif</th>\n",
       "      <th>Busra</th>\n",
       "      <th>Tuna</th>\n",
       "    </tr>\n",
       "  </thead>\n",
       "  <tbody>\n",
       "    <tr>\n",
       "      <th>matematik</th>\n",
       "      <td>-0.191919</td>\n",
       "      <td>0.221952</td>\n",
       "      <td>0.471326</td>\n",
       "      <td>-0.383839</td>\n",
       "    </tr>\n",
       "    <tr>\n",
       "      <th>türkçe</th>\n",
       "      <td>0.442426</td>\n",
       "      <td>-0.275035</td>\n",
       "      <td>-0.811784</td>\n",
       "      <td>0.884852</td>\n",
       "    </tr>\n",
       "    <tr>\n",
       "      <th>sosyal</th>\n",
       "      <td>-0.970611</td>\n",
       "      <td>-1.129177</td>\n",
       "      <td>-1.313767</td>\n",
       "      <td>-1.941223</td>\n",
       "    </tr>\n",
       "    <tr>\n",
       "      <th>fen</th>\n",
       "      <td>-0.099724</td>\n",
       "      <td>-1.507909</td>\n",
       "      <td>1.161198</td>\n",
       "      <td>-0.199448</td>\n",
       "    </tr>\n",
       "  </tbody>\n",
       "</table>\n",
       "</div>"
      ],
      "text/plain": [
       "              Betul      Elif     Busra      Tuna\n",
       "matematik -0.191919  0.221952  0.471326 -0.383839\n",
       "türkçe     0.442426 -0.275035 -0.811784  0.884852\n",
       "sosyal    -0.970611 -1.129177 -1.313767 -1.941223\n",
       "fen       -0.099724 -1.507909  1.161198 -0.199448"
      ]
     },
     "execution_count": 20,
     "metadata": {},
     "output_type": "execute_result"
    }
   ],
   "source": [
    "newDataFrame"
   ]
  },
  {
   "cell_type": "code",
   "execution_count": 27,
   "id": "b4de912b",
   "metadata": {},
   "outputs": [
    {
     "data": {
      "text/html": [
       "<div>\n",
       "<style scoped>\n",
       "    .dataframe tbody tr th:only-of-type {\n",
       "        vertical-align: middle;\n",
       "    }\n",
       "\n",
       "    .dataframe tbody tr th {\n",
       "        vertical-align: top;\n",
       "    }\n",
       "\n",
       "    .dataframe thead th {\n",
       "        text-align: right;\n",
       "    }\n",
       "</style>\n",
       "<table border=\"1\" class=\"dataframe\">\n",
       "  <thead>\n",
       "    <tr style=\"text-align: right;\">\n",
       "      <th></th>\n",
       "      <th>Betul</th>\n",
       "      <th>Busra</th>\n",
       "    </tr>\n",
       "  </thead>\n",
       "  <tbody>\n",
       "    <tr>\n",
       "      <th>matematik</th>\n",
       "      <td>-0.191919</td>\n",
       "      <td>0.471326</td>\n",
       "    </tr>\n",
       "    <tr>\n",
       "      <th>türkçe</th>\n",
       "      <td>0.442426</td>\n",
       "      <td>-0.811784</td>\n",
       "    </tr>\n",
       "    <tr>\n",
       "      <th>sosyal</th>\n",
       "      <td>-0.970611</td>\n",
       "      <td>-1.313767</td>\n",
       "    </tr>\n",
       "    <tr>\n",
       "      <th>fen</th>\n",
       "      <td>-0.099724</td>\n",
       "      <td>1.161198</td>\n",
       "    </tr>\n",
       "  </tbody>\n",
       "</table>\n",
       "</div>"
      ],
      "text/plain": [
       "              Betul     Busra\n",
       "matematik -0.191919  0.471326\n",
       "türkçe     0.442426 -0.811784\n",
       "sosyal    -0.970611 -1.313767\n",
       "fen       -0.099724  1.161198"
      ]
     },
     "execution_count": 27,
     "metadata": {},
     "output_type": "execute_result"
    }
   ],
   "source": [
    "newDataFrame.drop(\"Elif\", axis=1, inplace=True)\n",
    "newDataFrame"
   ]
  },
  {
   "cell_type": "code",
   "execution_count": 30,
   "id": "a413ef7c",
   "metadata": {},
   "outputs": [
    {
     "data": {
      "text/plain": [
       "Betul   -0.191919\n",
       "Busra    0.471326\n",
       "Name: matematik, dtype: float64"
      ]
     },
     "execution_count": 30,
     "metadata": {},
     "output_type": "execute_result"
    }
   ],
   "source": [
    "newDataFrame.loc[\"matematik\"]"
   ]
  },
  {
   "cell_type": "code",
   "execution_count": 31,
   "id": "60bd7d16",
   "metadata": {},
   "outputs": [
    {
     "data": {
      "text/plain": [
       "-0.19191939796409485"
      ]
     },
     "execution_count": 31,
     "metadata": {},
     "output_type": "execute_result"
    }
   ],
   "source": [
    "newDataFrame.loc[\"matematik\"][\"Betul\"]"
   ]
  },
  {
   "cell_type": "code",
   "execution_count": 32,
   "id": "6e70ab1c",
   "metadata": {},
   "outputs": [
    {
     "data": {
      "text/plain": [
       "-0.19191939796409485"
      ]
     },
     "execution_count": 32,
     "metadata": {},
     "output_type": "execute_result"
    }
   ],
   "source": [
    "newDataFrame.loc[\"matematik\",\"Betul\"]"
   ]
  },
  {
   "cell_type": "code",
   "execution_count": 33,
   "id": "f052b765",
   "metadata": {},
   "outputs": [
    {
     "data": {
      "text/html": [
       "<div>\n",
       "<style scoped>\n",
       "    .dataframe tbody tr th:only-of-type {\n",
       "        vertical-align: middle;\n",
       "    }\n",
       "\n",
       "    .dataframe tbody tr th {\n",
       "        vertical-align: top;\n",
       "    }\n",
       "\n",
       "    .dataframe thead th {\n",
       "        text-align: right;\n",
       "    }\n",
       "</style>\n",
       "<table border=\"1\" class=\"dataframe\">\n",
       "  <thead>\n",
       "    <tr style=\"text-align: right;\">\n",
       "      <th></th>\n",
       "      <th>Betul</th>\n",
       "      <th>Busra</th>\n",
       "    </tr>\n",
       "  </thead>\n",
       "  <tbody>\n",
       "    <tr>\n",
       "      <th>matematik</th>\n",
       "      <td>-0.191919</td>\n",
       "      <td>0.471326</td>\n",
       "    </tr>\n",
       "    <tr>\n",
       "      <th>türkçe</th>\n",
       "      <td>0.442426</td>\n",
       "      <td>-0.811784</td>\n",
       "    </tr>\n",
       "    <tr>\n",
       "      <th>sosyal</th>\n",
       "      <td>-0.970611</td>\n",
       "      <td>-1.313767</td>\n",
       "    </tr>\n",
       "    <tr>\n",
       "      <th>fen</th>\n",
       "      <td>-0.099724</td>\n",
       "      <td>1.161198</td>\n",
       "    </tr>\n",
       "  </tbody>\n",
       "</table>\n",
       "</div>"
      ],
      "text/plain": [
       "              Betul     Busra\n",
       "matematik -0.191919  0.471326\n",
       "türkçe     0.442426 -0.811784\n",
       "sosyal    -0.970611 -1.313767\n",
       "fen       -0.099724  1.161198"
      ]
     },
     "execution_count": 33,
     "metadata": {},
     "output_type": "execute_result"
    }
   ],
   "source": [
    "newDataFrame"
   ]
  },
  {
   "cell_type": "code",
   "execution_count": 34,
   "id": "d138250a",
   "metadata": {},
   "outputs": [
    {
     "data": {
      "text/html": [
       "<div>\n",
       "<style scoped>\n",
       "    .dataframe tbody tr th:only-of-type {\n",
       "        vertical-align: middle;\n",
       "    }\n",
       "\n",
       "    .dataframe tbody tr th {\n",
       "        vertical-align: top;\n",
       "    }\n",
       "\n",
       "    .dataframe thead th {\n",
       "        text-align: right;\n",
       "    }\n",
       "</style>\n",
       "<table border=\"1\" class=\"dataframe\">\n",
       "  <thead>\n",
       "    <tr style=\"text-align: right;\">\n",
       "      <th></th>\n",
       "      <th>Betul</th>\n",
       "      <th>Busra</th>\n",
       "    </tr>\n",
       "  </thead>\n",
       "  <tbody>\n",
       "    <tr>\n",
       "      <th>matematik</th>\n",
       "      <td>True</td>\n",
       "      <td>False</td>\n",
       "    </tr>\n",
       "    <tr>\n",
       "      <th>türkçe</th>\n",
       "      <td>False</td>\n",
       "      <td>True</td>\n",
       "    </tr>\n",
       "    <tr>\n",
       "      <th>sosyal</th>\n",
       "      <td>True</td>\n",
       "      <td>True</td>\n",
       "    </tr>\n",
       "    <tr>\n",
       "      <th>fen</th>\n",
       "      <td>True</td>\n",
       "      <td>False</td>\n",
       "    </tr>\n",
       "  </tbody>\n",
       "</table>\n",
       "</div>"
      ],
      "text/plain": [
       "           Betul  Busra\n",
       "matematik   True  False\n",
       "türkçe     False   True\n",
       "sosyal      True   True\n",
       "fen         True  False"
      ]
     },
     "execution_count": 34,
     "metadata": {},
     "output_type": "execute_result"
    }
   ],
   "source": [
    "newDataFrame<0"
   ]
  },
  {
   "cell_type": "code",
   "execution_count": 35,
   "id": "af01490f",
   "metadata": {},
   "outputs": [
    {
     "data": {
      "text/html": [
       "<div>\n",
       "<style scoped>\n",
       "    .dataframe tbody tr th:only-of-type {\n",
       "        vertical-align: middle;\n",
       "    }\n",
       "\n",
       "    .dataframe tbody tr th {\n",
       "        vertical-align: top;\n",
       "    }\n",
       "\n",
       "    .dataframe thead th {\n",
       "        text-align: right;\n",
       "    }\n",
       "</style>\n",
       "<table border=\"1\" class=\"dataframe\">\n",
       "  <thead>\n",
       "    <tr style=\"text-align: right;\">\n",
       "      <th></th>\n",
       "      <th>Betul</th>\n",
       "      <th>Busra</th>\n",
       "    </tr>\n",
       "  </thead>\n",
       "  <tbody>\n",
       "    <tr>\n",
       "      <th>matematik</th>\n",
       "      <td>-0.191919</td>\n",
       "      <td>NaN</td>\n",
       "    </tr>\n",
       "    <tr>\n",
       "      <th>türkçe</th>\n",
       "      <td>NaN</td>\n",
       "      <td>-0.811784</td>\n",
       "    </tr>\n",
       "    <tr>\n",
       "      <th>sosyal</th>\n",
       "      <td>-0.970611</td>\n",
       "      <td>-1.313767</td>\n",
       "    </tr>\n",
       "    <tr>\n",
       "      <th>fen</th>\n",
       "      <td>-0.099724</td>\n",
       "      <td>NaN</td>\n",
       "    </tr>\n",
       "  </tbody>\n",
       "</table>\n",
       "</div>"
      ],
      "text/plain": [
       "              Betul     Busra\n",
       "matematik -0.191919       NaN\n",
       "türkçe          NaN -0.811784\n",
       "sosyal    -0.970611 -1.313767\n",
       "fen       -0.099724       NaN"
      ]
     },
     "execution_count": 35,
     "metadata": {},
     "output_type": "execute_result"
    }
   ],
   "source": [
    "newDataFrame[newDataFrame<0]"
   ]
  },
  {
   "cell_type": "code",
   "execution_count": 43,
   "id": "0c42d40d",
   "metadata": {},
   "outputs": [
    {
     "data": {
      "text/html": [
       "<div>\n",
       "<style scoped>\n",
       "    .dataframe tbody tr th:only-of-type {\n",
       "        vertical-align: middle;\n",
       "    }\n",
       "\n",
       "    .dataframe tbody tr th {\n",
       "        vertical-align: top;\n",
       "    }\n",
       "\n",
       "    .dataframe thead th {\n",
       "        text-align: right;\n",
       "    }\n",
       "</style>\n",
       "<table border=\"1\" class=\"dataframe\">\n",
       "  <thead>\n",
       "    <tr style=\"text-align: right;\">\n",
       "      <th></th>\n",
       "      <th>Betul</th>\n",
       "      <th>Busra</th>\n",
       "    </tr>\n",
       "  </thead>\n",
       "  <tbody>\n",
       "    <tr>\n",
       "      <th>türkçe</th>\n",
       "      <td>0.442426</td>\n",
       "      <td>-0.811784</td>\n",
       "    </tr>\n",
       "    <tr>\n",
       "      <th>sosyal</th>\n",
       "      <td>-0.970611</td>\n",
       "      <td>-1.313767</td>\n",
       "    </tr>\n",
       "  </tbody>\n",
       "</table>\n",
       "</div>"
      ],
      "text/plain": [
       "           Betul     Busra\n",
       "türkçe  0.442426 -0.811784\n",
       "sosyal -0.970611 -1.313767"
      ]
     },
     "execution_count": 43,
     "metadata": {},
     "output_type": "execute_result"
    }
   ],
   "source": [
    "newDataFrame[newDataFrame[\"Busra\"]<0]"
   ]
  },
  {
   "cell_type": "code",
   "execution_count": 56,
   "id": "1803851d",
   "metadata": {},
   "outputs": [
    {
     "data": {
      "text/html": [
       "<div>\n",
       "<style scoped>\n",
       "    .dataframe tbody tr th:only-of-type {\n",
       "        vertical-align: middle;\n",
       "    }\n",
       "\n",
       "    .dataframe tbody tr th {\n",
       "        vertical-align: top;\n",
       "    }\n",
       "\n",
       "    .dataframe thead th {\n",
       "        text-align: right;\n",
       "    }\n",
       "</style>\n",
       "<table border=\"1\" class=\"dataframe\">\n",
       "  <thead>\n",
       "    <tr style=\"text-align: right;\">\n",
       "      <th></th>\n",
       "      <th>Yas</th>\n",
       "      <th>Maas</th>\n",
       "      <th>Calısma saati</th>\n",
       "    </tr>\n",
       "  </thead>\n",
       "  <tbody>\n",
       "    <tr>\n",
       "      <th>Ali</th>\n",
       "      <td>0.699413</td>\n",
       "      <td>-0.603967</td>\n",
       "      <td>-0.340879</td>\n",
       "    </tr>\n",
       "    <tr>\n",
       "      <th>Ayse</th>\n",
       "      <td>-1.284635</td>\n",
       "      <td>0.838088</td>\n",
       "      <td>-0.771701</td>\n",
       "    </tr>\n",
       "    <tr>\n",
       "      <th>Mert</th>\n",
       "      <td>-0.827045</td>\n",
       "      <td>-0.621282</td>\n",
       "      <td>0.494429</td>\n",
       "    </tr>\n",
       "    <tr>\n",
       "      <th>Beyza</th>\n",
       "      <td>0.106779</td>\n",
       "      <td>-0.045678</td>\n",
       "      <td>-0.834398</td>\n",
       "    </tr>\n",
       "  </tbody>\n",
       "</table>\n",
       "</div>"
      ],
      "text/plain": [
       "            Yas      Maas  Calısma saati\n",
       "Ali    0.699413 -0.603967      -0.340879\n",
       "Ayse  -1.284635  0.838088      -0.771701\n",
       "Mert  -0.827045 -0.621282       0.494429\n",
       "Beyza  0.106779 -0.045678      -0.834398"
      ]
     },
     "execution_count": 56,
     "metadata": {},
     "output_type": "execute_result"
    }
   ],
   "source": [
    "veri=np.random.randn(4,3)\n",
    "yeniDataFrame=pd.DataFrame(veri)\n",
    "yeniDataFrame=pd.DataFrame(veri,index=[\"Ali\",\"Ayse\",\"Mert\",\"Beyza\"],columns=[\"Yas\",\"Maas\",\"Calısma saati\"])\n",
    "yeniDataFrame"
   ]
  },
  {
   "cell_type": "code",
   "execution_count": 55,
   "id": "c1385561",
   "metadata": {},
   "outputs": [
    {
     "data": {
      "text/html": [
       "<div>\n",
       "<style scoped>\n",
       "    .dataframe tbody tr th:only-of-type {\n",
       "        vertical-align: middle;\n",
       "    }\n",
       "\n",
       "    .dataframe tbody tr th {\n",
       "        vertical-align: top;\n",
       "    }\n",
       "\n",
       "    .dataframe thead th {\n",
       "        text-align: right;\n",
       "    }\n",
       "</style>\n",
       "<table border=\"1\" class=\"dataframe\">\n",
       "  <thead>\n",
       "    <tr style=\"text-align: right;\">\n",
       "      <th></th>\n",
       "      <th>index</th>\n",
       "      <th>Yas</th>\n",
       "      <th>Maas</th>\n",
       "      <th>Calısma saati</th>\n",
       "    </tr>\n",
       "  </thead>\n",
       "  <tbody>\n",
       "    <tr>\n",
       "      <th>0</th>\n",
       "      <td>Ali</td>\n",
       "      <td>1.561912</td>\n",
       "      <td>-0.614486</td>\n",
       "      <td>-1.959523</td>\n",
       "    </tr>\n",
       "    <tr>\n",
       "      <th>1</th>\n",
       "      <td>Ayse</td>\n",
       "      <td>-0.706663</td>\n",
       "      <td>-0.377181</td>\n",
       "      <td>0.077803</td>\n",
       "    </tr>\n",
       "    <tr>\n",
       "      <th>2</th>\n",
       "      <td>Mert</td>\n",
       "      <td>-1.069966</td>\n",
       "      <td>-0.219074</td>\n",
       "      <td>0.164766</td>\n",
       "    </tr>\n",
       "    <tr>\n",
       "      <th>3</th>\n",
       "      <td>Beyza</td>\n",
       "      <td>0.739410</td>\n",
       "      <td>1.142502</td>\n",
       "      <td>-0.777615</td>\n",
       "    </tr>\n",
       "  </tbody>\n",
       "</table>\n",
       "</div>"
      ],
      "text/plain": [
       "   index       Yas      Maas  Calısma saati\n",
       "0    Ali  1.561912 -0.614486      -1.959523\n",
       "1   Ayse -0.706663 -0.377181       0.077803\n",
       "2   Mert -1.069966 -0.219074       0.164766\n",
       "3  Beyza  0.739410  1.142502      -0.777615"
      ]
     },
     "execution_count": 55,
     "metadata": {},
     "output_type": "execute_result"
    }
   ],
   "source": [
    "yeniDataFrame.reset_index()"
   ]
  },
  {
   "cell_type": "code",
   "execution_count": 57,
   "id": "e6bdf48a",
   "metadata": {},
   "outputs": [
    {
     "data": {
      "text/html": [
       "<div>\n",
       "<style scoped>\n",
       "    .dataframe tbody tr th:only-of-type {\n",
       "        vertical-align: middle;\n",
       "    }\n",
       "\n",
       "    .dataframe tbody tr th {\n",
       "        vertical-align: top;\n",
       "    }\n",
       "\n",
       "    .dataframe thead th {\n",
       "        text-align: right;\n",
       "    }\n",
       "</style>\n",
       "<table border=\"1\" class=\"dataframe\">\n",
       "  <thead>\n",
       "    <tr style=\"text-align: right;\">\n",
       "      <th></th>\n",
       "      <th>Yas</th>\n",
       "      <th>Maas</th>\n",
       "      <th>Calısma saati</th>\n",
       "      <th>yeni indeks</th>\n",
       "    </tr>\n",
       "  </thead>\n",
       "  <tbody>\n",
       "    <tr>\n",
       "      <th>Ali</th>\n",
       "      <td>0.699413</td>\n",
       "      <td>-0.603967</td>\n",
       "      <td>-0.340879</td>\n",
       "      <td>A</td>\n",
       "    </tr>\n",
       "    <tr>\n",
       "      <th>Ayse</th>\n",
       "      <td>-1.284635</td>\n",
       "      <td>0.838088</td>\n",
       "      <td>-0.771701</td>\n",
       "      <td>B</td>\n",
       "    </tr>\n",
       "    <tr>\n",
       "      <th>Mert</th>\n",
       "      <td>-0.827045</td>\n",
       "      <td>-0.621282</td>\n",
       "      <td>0.494429</td>\n",
       "      <td>C</td>\n",
       "    </tr>\n",
       "    <tr>\n",
       "      <th>Beyza</th>\n",
       "      <td>0.106779</td>\n",
       "      <td>-0.045678</td>\n",
       "      <td>-0.834398</td>\n",
       "      <td>D</td>\n",
       "    </tr>\n",
       "  </tbody>\n",
       "</table>\n",
       "</div>"
      ],
      "text/plain": [
       "            Yas      Maas  Calısma saati yeni indeks\n",
       "Ali    0.699413 -0.603967      -0.340879           A\n",
       "Ayse  -1.284635  0.838088      -0.771701           B\n",
       "Mert  -0.827045 -0.621282       0.494429           C\n",
       "Beyza  0.106779 -0.045678      -0.834398           D"
      ]
     },
     "execution_count": 57,
     "metadata": {},
     "output_type": "execute_result"
    }
   ],
   "source": [
    "yeniListe=[\"A\",\"B\",\"C\",\"D\"]\n",
    "yeniDataFrame[\"yeni indeks\"]=yeniListe\n",
    "yeniDataFrame"
   ]
  },
  {
   "cell_type": "code",
   "execution_count": 58,
   "id": "5a4d016f",
   "metadata": {},
   "outputs": [
    {
     "data": {
      "text/html": [
       "<div>\n",
       "<style scoped>\n",
       "    .dataframe tbody tr th:only-of-type {\n",
       "        vertical-align: middle;\n",
       "    }\n",
       "\n",
       "    .dataframe tbody tr th {\n",
       "        vertical-align: top;\n",
       "    }\n",
       "\n",
       "    .dataframe thead th {\n",
       "        text-align: right;\n",
       "    }\n",
       "</style>\n",
       "<table border=\"1\" class=\"dataframe\">\n",
       "  <thead>\n",
       "    <tr style=\"text-align: right;\">\n",
       "      <th></th>\n",
       "      <th>Yas</th>\n",
       "      <th>Maas</th>\n",
       "      <th>Calısma saati</th>\n",
       "    </tr>\n",
       "    <tr>\n",
       "      <th>yeni indeks</th>\n",
       "      <th></th>\n",
       "      <th></th>\n",
       "      <th></th>\n",
       "    </tr>\n",
       "  </thead>\n",
       "  <tbody>\n",
       "    <tr>\n",
       "      <th>A</th>\n",
       "      <td>0.699413</td>\n",
       "      <td>-0.603967</td>\n",
       "      <td>-0.340879</td>\n",
       "    </tr>\n",
       "    <tr>\n",
       "      <th>B</th>\n",
       "      <td>-1.284635</td>\n",
       "      <td>0.838088</td>\n",
       "      <td>-0.771701</td>\n",
       "    </tr>\n",
       "    <tr>\n",
       "      <th>C</th>\n",
       "      <td>-0.827045</td>\n",
       "      <td>-0.621282</td>\n",
       "      <td>0.494429</td>\n",
       "    </tr>\n",
       "    <tr>\n",
       "      <th>D</th>\n",
       "      <td>0.106779</td>\n",
       "      <td>-0.045678</td>\n",
       "      <td>-0.834398</td>\n",
       "    </tr>\n",
       "  </tbody>\n",
       "</table>\n",
       "</div>"
      ],
      "text/plain": [
       "                  Yas      Maas  Calısma saati\n",
       "yeni indeks                                   \n",
       "A            0.699413 -0.603967      -0.340879\n",
       "B           -1.284635  0.838088      -0.771701\n",
       "C           -0.827045 -0.621282       0.494429\n",
       "D            0.106779 -0.045678      -0.834398"
      ]
     },
     "execution_count": 58,
     "metadata": {},
     "output_type": "execute_result"
    }
   ],
   "source": [
    "yeniDataFrame.set_index(\"yeni indeks\")"
   ]
  },
  {
   "cell_type": "code",
   "execution_count": null,
   "id": "25c89bf5",
   "metadata": {},
   "outputs": [],
   "source": []
  }
 ],
 "metadata": {
  "kernelspec": {
   "display_name": "Python 3 (ipykernel)",
   "language": "python",
   "name": "python3"
  },
  "language_info": {
   "codemirror_mode": {
    "name": "ipython",
    "version": 3
   },
   "file_extension": ".py",
   "mimetype": "text/x-python",
   "name": "python",
   "nbconvert_exporter": "python",
   "pygments_lexer": "ipython3",
   "version": "3.9.12"
  }
 },
 "nbformat": 4,
 "nbformat_minor": 5
}
